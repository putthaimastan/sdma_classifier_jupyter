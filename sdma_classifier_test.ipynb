{
 "cells": [
  {
   "cell_type": "markdown",
   "id": "d904d0ec",
   "metadata": {},
   "source": [
    "1. Import Libraries"
   ]
  },
  {
   "cell_type": "code",
   "execution_count": 2,
   "id": "ea3607f1",
   "metadata": {},
   "outputs": [],
   "source": [
    "# สำหรับ WangchanBERTa\n",
    "from transformers import AutoTokenizer, AutoModelForSequenceClassification\n",
    "import torch\n",
    "import torch.nn.functional as F\n",
    "\n",
    "#สำหรับ Random Forest\n",
    "import joblib\n",
    "import pandas as pd\n",
    "import numpy as np"
   ]
  },
  {
   "cell_type": "markdown",
   "id": "ab104425",
   "metadata": {},
   "source": [
    "2. Load Model"
   ]
  },
  {
   "cell_type": "code",
   "execution_count": 5,
   "id": "30420f9c",
   "metadata": {},
   "outputs": [],
   "source": [
    "content_model_dir = \"content_classifier/best_sms_content_model\"\n",
    "\n",
    "# โหลด WangchanBERTa model & tokenizer (content_classifier)\n",
    "tokenizer = AutoTokenizer.from_pretrained(content_model_dir)\n",
    "wangchanberta_model = AutoModelForSequenceClassification.from_pretrained(content_model_dir)\n",
    "\n",
    "# labels ของคลาส\n",
    "wangchanberta_labels = ['safe', 'spam', 'scam']"
   ]
  },
  {
   "cell_type": "code",
   "execution_count": 6,
   "id": "461543e9",
   "metadata": {},
   "outputs": [],
   "source": [
    "rf_model_path = \"link_classifier_73/best_sms_link_model.pkl\"\n",
    "tfidf_path = \"link_classifier_73/tfidf_vectorizer.pkl\"\n",
    "\n",
    "# โหลด Random Forest & tfidf (link_classifier)\n",
    "rf_model = joblib.load(rf_model_path)\n",
    "tfidf = joblib.load(tfidf_path)\n",
    "\n",
    "# ฟีเจอร์ที่ใช้\n",
    "rf_features = ['short_url', 'sus_tld', 'has_https', 'has_http', 'sus_redirect', 'ip_th', 'domain_age_lesser_than_three_month']\n"
   ]
  },
  {
   "cell_type": "markdown",
   "id": "f6c0e05d",
   "metadata": {},
   "source": [
    "3. Predict function\n",
    "- predict_sms_link (RF)\n",
    "- predict_sms_content (WangchanBERTa)"
   ]
  },
  {
   "cell_type": "code",
   "execution_count": 8,
   "id": "b9b84381",
   "metadata": {},
   "outputs": [],
   "source": [
    "def predict_sms_link(link_text, rf_features_dict):\n",
    "    \"\"\"\n",
    "    link_text: str\n",
    "        ลิงก์ดิบ (เช่น 'http://example.com')\n",
    "    rf_features_dict: dict\n",
    "        dict ของ rf_features เช่น\n",
    "        {\n",
    "            'short_url': 1,\n",
    "            'sus_tld': 0,\n",
    "            'has_https': 1,\n",
    "            'has_http': 1,\n",
    "            'sus_redirect': 0,\n",
    "            'ip_th': 0,\n",
    "            'domain_age_lesser_than_three_month': 1\n",
    "        }\n",
    "    \"\"\"\n",
    "    # แปลงลิงก์ใหม่ด้วย tfidf\n",
    "    link_tfidf = tfidf.transform([link_text]).toarray()\n",
    "\n",
    "    # แปลง rf_features เป็น array\n",
    "    numeric_df = pd.DataFrame([rf_features_dict])[rf_features]\n",
    "    numeric_array = numeric_df.values\n",
    "\n",
    "    # รวม numeric features + tfidf vector\n",
    "    X_pred = np.hstack([numeric_array, link_tfidf])\n",
    "\n",
    "    # Random Forest Predict\n",
    "    predicted_class = rf_model.predict(X_pred)[0]\n",
    "    predicted_proba = rf_model.predict_proba(X_pred)[0]\n",
    "    \n",
    "    # แปลง predicted_class จากตัวเลขเป็น label ข้อความ + เฉพาะ scam\n",
    "    class_mapping = {0: 'safe', 1: 'spam', 2: 'scam'}\n",
    "    predicted_label = class_mapping[predicted_class]\n",
    "    scam_prob = float(predicted_proba[2])\n",
    "    \n",
    "    # สร้าง dictionary ของความน่าจะเป็น (Probabilities)\n",
    "    prob_dict = {\n",
    "        'safe': float(predicted_proba[0]),\n",
    "        'spam': float(predicted_proba[1]),\n",
    "        'scam': float(predicted_proba[2])\n",
    "    }\n",
    "    \n",
    "    return {\n",
    "        \"label\": predicted_label,\n",
    "        \"probabilities\": prob_dict,\n",
    "        \"scam_probability\": round(scam_prob, 2)\n",
    "    }"
   ]
  },
  {
   "cell_type": "code",
   "execution_count": 9,
   "id": "eced0e09",
   "metadata": {},
   "outputs": [],
   "source": [
    "def predict_sms_content(text):\n",
    "    \"\"\"\n",
    "    text: str\n",
    "        ข้อความ SMS ที่ต้องการทำนาย\n",
    "    \"\"\"\n",
    "    inputs = tokenizer(text, padding=True, truncation=True, return_tensors=\"pt\")\n",
    "    \n",
    "    with torch.no_grad():\n",
    "        outputs = wangchanberta_model(**inputs)\n",
    "        probs = F.softmax(outputs.logits, dim=1)\n",
    "        predicted_class = torch.argmax(probs, dim=1).item()\n",
    "    \n",
    "    return {\n",
    "        \"label\": wangchanberta_labels[predicted_class],\n",
    "        \"probabilities\": dict(zip(wangchanberta_labels, probs.flatten().tolist())),\n",
    "        \"scam_probability\": round(probs.flatten().tolist()[wangchanberta_labels.index('scam')], 2)\n",
    "    }"
   ]
  },
  {
   "cell_type": "markdown",
   "id": "8eca8f51",
   "metadata": {},
   "source": [
    "4. Model Prediction Test\n",
    "input\n",
    "- test_sms_text = ข้อความ SMS ที่ต้องการทำนาย (เฉพาะส่วนเนื้อหา)\n",
    "- test_link = ลิงก์ที่แนบมากับ sms ที่ต้องการทำนาย"
   ]
  },
  {
   "cell_type": "code",
   "execution_count": 10,
   "id": "4ef57056",
   "metadata": {},
   "outputs": [
    {
     "name": "stderr",
     "output_type": "stream",
     "text": [
      "Asking to truncate to max_length but no maximum length is provided and the model has no predefined maximum length. Default to no truncation.\n"
     ]
    },
    {
     "name": "stdout",
     "output_type": "stream",
     "text": [
      "SMS Content Prediction:\n",
      "{'label': 'scam', 'probabilities': {'safe': 0.0014672125689685345, 'spam': 0.029311269521713257, 'scam': 0.9692214727401733}, 'scam_probability': 0.97}\n",
      "SMS Link Prediction:\n",
      "{'label': 'scam', 'probabilities': {'safe': 0.1659689482565863, 'spam': 0.04982016520391997, 'scam': 0.7842108865394941}, 'scam_probability': 0.78}\n"
     ]
    }
   ],
   "source": [
    "# ข้อความ SMS ที่ต้องการทำนาย\n",
    "test_sms_text = \"DE899 เว็บNo.1โอนlว ให้เพิ่ม3เท่า คืน12% ถอนได้เป็นล้าน\"\n",
    "\n",
    "# ลิงก์ SMS ที่ต้องการทำนาย\n",
    "test_link = \"http://cutt.ly/DETT11\"\n",
    "\n",
    "# Manual add rf features (Temporary)\n",
    "test_rf_features = {\n",
    "    'short_url': 1,\n",
    "    'sus_tld': 0,\n",
    "    'has_https': 0,\n",
    "    'has_http': 1,\n",
    "    'sus_redirect': 1,\n",
    "    'ip_th': 0,\n",
    "    'domain_age_lesser_than_three_month': 0\n",
    "}\n",
    "\n",
    "# Predict Content\n",
    "content_result = predict_sms_content(test_sms_text)\n",
    "print(\"SMS Content Prediction:\")\n",
    "print(content_result)\n",
    "\n",
    "# Predict Link\n",
    "link_result = predict_sms_link(test_link, test_rf_features)\n",
    "print(\"SMS Link Prediction:\")\n",
    "print(link_result)"
   ]
  },
  {
   "cell_type": "code",
   "execution_count": 11,
   "id": "9e414b60",
   "metadata": {},
   "outputs": [
    {
     "name": "stdout",
     "output_type": "stream",
     "text": [
      "SMS Content Prediction:\n",
      "Label: scam \n",
      "probabilities: \n",
      "-safe: 0.0014672125689685345\n",
      "-spam: 0.029311269521713257\n",
      "-scam: 0.9692214727401733}, \n",
      "**scam_probability: 0.97\n",
      "\n",
      "SMS Link Prediction:\n",
      "Label: scam \n",
      "probabilities: \n",
      "-safe: 0.1659689482565863\n",
      "-spam: 0.04982016520391997\n",
      "-scam: 0.7842108865394941}, \n",
      "**scam_probability: 0.78\n"
     ]
    }
   ],
   "source": [
    "#format result\n",
    "def format_prediction(title, result):\n",
    "    print(f\"{title}\")\n",
    "    print(f\"Label: {result['label']} \")\n",
    "    print(\"probabilities: \")\n",
    "    print(f\"-safe: {result['probabilities']['safe']}\")\n",
    "    print(f\"-spam: {result['probabilities']['spam']}\")\n",
    "    print(f\"-scam: {result['probabilities']['scam']}\" + \"}, \")\n",
    "    print(f\"**scam_probability: {result['scam_probability']:.2f}\")\n",
    "\n",
    "format_prediction(\"SMS Content Prediction:\", content_result)\n",
    "print()\n",
    "format_prediction(\"SMS Link Prediction:\", link_result)"
   ]
  },
  {
   "cell_type": "markdown",
   "id": "2f978305",
   "metadata": {},
   "source": [
    "5. Risk Assessment\n",
    "- Majority Vote"
   ]
  },
  {
   "cell_type": "code",
   "execution_count": 12,
   "id": "62513613",
   "metadata": {},
   "outputs": [
    {
     "name": "stdout",
     "output_type": "stream",
     "text": [
      "Content Probabilities:\n",
      "p_safe: 0.0015\n",
      "p_spam: 0.0293\n",
      "p_scam: 0.9692\n",
      "\n",
      "Link Probabilities:\n",
      "p_safe: 0.1660\n",
      "p_spam: 0.0498\n",
      "p_scam: 0.7842\n",
      "------------------------------\n",
      "Risk Scoring Equation Variables\n",
      "p_scam = 0.9692\n",
      "p_safe = 0.1660\n",
      "p_spam = 0.0498\n"
     ]
    }
   ],
   "source": [
    "# ดึงค่า Prob จาก WangchanBERTa (p(WangchanBERTa))\n",
    "content_probs = content_result['probabilities']\n",
    "content_safe = content_probs['safe']\n",
    "content_spam = content_probs['spam']\n",
    "content_scam = content_probs['scam']\n",
    "\n",
    "# ดึงค่า Prob จาก Random Forest (p(RF))\n",
    "link_probs = link_result['probabilities']\n",
    "link_safe = link_probs['safe']\n",
    "link_spam = link_probs['spam']\n",
    "link_scam = link_probs['scam']\n",
    "\n",
    "# Check Prob\n",
    "print(\"Content Probabilities:\")\n",
    "print(f\"p_safe: {content_safe:.4f}\")\n",
    "print(f\"p_spam: {content_spam:.4f}\")\n",
    "print(f\"p_scam: {content_scam:.4f}\\n\")\n",
    "\n",
    "print(\"Link Probabilities:\")\n",
    "print(f\"p_safe: {link_safe:.4f}\")\n",
    "print(f\"p_spam: {link_spam:.4f}\")\n",
    "print(f\"p_scam: {link_scam:.4f}\")\n",
    "print('-'*30)\n",
    "\n",
    "#เตรียมตัวแปรสำหรับสมการ Risk Scoring (Risk Scoring Equation Variables - Majority Vote)\n",
    "p_scam_var = max(content_scam,link_scam)\n",
    "p_safe_var = max(content_safe,link_safe)\n",
    "p_spam_var = max(content_spam,link_spam)\n",
    "print('Risk Scoring Equation Variables')\n",
    "print(f\"p_scam = {p_scam_var:.4f}\")\n",
    "print(f\"p_safe = {p_safe_var:.4f}\")\n",
    "print(f\"p_spam = {p_spam_var:.4f}\")"
   ]
  },
  {
   "cell_type": "markdown",
   "id": "1a1ef65b",
   "metadata": {},
   "source": [
    "5.1 Risk Scoring (Risk Computation)"
   ]
  },
  {
   "cell_type": "code",
   "execution_count": 13,
   "id": "6b0683ff",
   "metadata": {},
   "outputs": [
    {
     "name": "stdout",
     "output_type": "stream",
     "text": [
      "Risk Score = 81.79%\n"
     ]
    }
   ],
   "source": [
    "#Risk Scoring Equation\n",
    "risk_score = (p_scam_var/(p_scam_var+p_safe_var+p_spam_var))*100\n",
    "print(f\"Risk Score = {risk_score:.2f}%\")"
   ]
  },
  {
   "cell_type": "markdown",
   "id": "5534900c",
   "metadata": {},
   "source": [
    "5.2 Risk Likelihood"
   ]
  },
  {
   "cell_type": "code",
   "execution_count": 14,
   "id": "df6ace8d",
   "metadata": {},
   "outputs": [
    {
     "name": "stdout",
     "output_type": "stream",
     "text": [
      "SMS Category: scam\n"
     ]
    }
   ],
   "source": [
    "#Risk Score --> SMS Category\n",
    "'''\n",
    "0-29 = Safe/Ham\n",
    "30-59 = Spam\n",
    "60-100 = Scam\n",
    "'''\n",
    "if risk_score <= 29:\n",
    "    sms_category = 'safe'\n",
    "elif 30 <= risk_score <= 59:\n",
    "    sms_category = 'spam'\n",
    "else:\n",
    "    sms_category = 'scam'\n",
    "    \n",
    "print('SMS Category:', sms_category)\n"
   ]
  }
 ],
 "metadata": {
  "kernelspec": {
   "display_name": "base",
   "language": "python",
   "name": "python3"
  },
  "language_info": {
   "codemirror_mode": {
    "name": "ipython",
    "version": 3
   },
   "file_extension": ".py",
   "mimetype": "text/x-python",
   "name": "python",
   "nbconvert_exporter": "python",
   "pygments_lexer": "ipython3",
   "version": "3.13.5"
  }
 },
 "nbformat": 4,
 "nbformat_minor": 5
}
